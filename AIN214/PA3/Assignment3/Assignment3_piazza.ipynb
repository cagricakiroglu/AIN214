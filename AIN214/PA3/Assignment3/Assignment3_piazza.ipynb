{
 "cells": [
  {
   "cell_type": "markdown",
   "id": "61363df5",
   "metadata": {
    "id": "61363df5"
   },
   "source": [
    "### Question 1)\n",
    "Read the given dataset as a dataframe and check for missing values"
   ]
  },
  {
   "cell_type": "code",
   "execution_count": null,
   "id": "ccce464c",
   "metadata": {},
   "outputs": [],
   "source": [
    "# solution code"
   ]
  },
  {
   "cell_type": "markdown",
   "id": "ea91c3ca",
   "metadata": {
    "id": "ea91c3ca"
   },
   "source": [
    "### Question 2)\n",
    "Create line plots for 'y', 'z', 'depth', and 'table' attributes versus price separately in order to check for potential outliers."
   ]
  },
  {
   "cell_type": "code",
   "execution_count": null,
   "id": "37fd9c24",
   "metadata": {},
   "outputs": [],
   "source": [
    "# solution code"
   ]
  },
  {
   "cell_type": "markdown",
   "id": "cbf10742",
   "metadata": {
    "id": "cbf10742"
   },
   "source": [
    "### Question 3)\n",
    "\n",
    "Find and remove outliers by analyzing the above output of question 2. Explain your outlier detection process."
   ]
  },
  {
   "cell_type": "code",
   "execution_count": null,
   "id": "1bc7f4af",
   "metadata": {},
   "outputs": [],
   "source": [
    "# solution code"
   ]
  },
  {
   "cell_type": "markdown",
   "id": "39770d1d",
   "metadata": {
    "id": "39770d1d"
   },
   "source": [
    "### Question 4)\n",
    "Replace ordinal values (cut, color, clarity) according to rules below:\n",
    "- For \"cut\": 'Good':1, 'Very Good':2, 'Fair':3, 'Ideal':4, 'Premium':5\n",
    "- For \"color\": 'J':1, 'I':2, 'H':3, 'G':4, 'F':5, 'E':6, 'D':7\n",
    "- For \"clarity\": 'I1':1, 'SI1':2, 'SI2':3, 'VS1':4, 'VS2':5, 'VVS1':6, 'VVS2':7, 'IF':8"
   ]
  },
  {
   "cell_type": "code",
   "execution_count": null,
   "id": "0c052d55",
   "metadata": {},
   "outputs": [],
   "source": [
    "# solution code"
   ]
  },
  {
   "cell_type": "markdown",
   "id": "7ae4a96e",
   "metadata": {
    "id": "7ae4a96e"
   },
   "source": [
    "### Question 5)\n",
    "Create bar graphs for 'cut', 'color', and 'clarity' attributes with their new values to analyze the dataset visually.\n"
   ]
  },
  {
   "cell_type": "code",
   "execution_count": null,
   "id": "705c1add",
   "metadata": {},
   "outputs": [],
   "source": [
    "# solution code"
   ]
  },
  {
   "cell_type": "markdown",
   "id": "e10afa32",
   "metadata": {
    "id": "e10afa32"
   },
   "source": [
    "### Question 6)\n",
    "Shuffle the data points and split the dataset into training and testing set, with a 0.7-0.3 ratio (training set will be %70, and test set will be %30 of the dataset) (Write your own shuffling and spliting code here, do not use predefined function train_test_split).\n",
    "\n"
   ]
  },
  {
   "cell_type": "code",
   "execution_count": null,
   "id": "c5b05a08",
   "metadata": {},
   "outputs": [],
   "source": [
    "# solution code"
   ]
  },
  {
   "cell_type": "markdown",
   "id": "9caf4c9a",
   "metadata": {
    "id": "9caf4c9a"
   },
   "source": [
    "### Question 7)\n",
    "\n",
    "Create an instance of kNN with a number of neighbors between 1-30, then fit kNN regression model to train data. Then, make prediction and calculate mean squared error (MSE). Calculate MSE for k value between 1-30 and print them. Finally, create elbow function to find best k value and plot the elbow curve. Explain how you find the best k-value."
   ]
  },
  {
   "cell_type": "code",
   "execution_count": null,
   "id": "74f8f47f",
   "metadata": {},
   "outputs": [],
   "source": [
    "# solution code"
   ]
  },
  {
   "cell_type": "markdown",
   "id": "216ff5b6",
   "metadata": {
    "id": "216ff5b6"
   },
   "source": [
    "### Question 8)\n",
    "\n",
    "Run 10-Fold Cross validation (CV) and print accuracy values for each run of CV. Also print the final average accuracy of the model."
   ]
  },
  {
   "cell_type": "code",
   "execution_count": null,
   "id": "57e814d1",
   "metadata": {},
   "outputs": [],
   "source": [
    "# solution code"
   ]
  },
  {
   "attachments": {
    "image.png": {
     "image/png": "[encoded data removed]"
    }
   },
   "cell_type": "markdown",
   "id": "1b187edb",
   "metadata": {},
   "source": [
    "### Question 9)\n",
    "\n",
    "Predict the price of new jewel data with the following custom features. \n",
    "\n",
    "![image.png](attachment:image.png)"
   ]
  },
  {
   "cell_type": "code",
   "execution_count": null,
   "id": "2f6dd9e6",
   "metadata": {},
   "outputs": [],
   "source": [
    "# solution code"
   ]
  }
 ],
 "metadata": {
  "colab": {
   "provenance": []
  },
  "kernelspec": {
   "display_name": "Python 3",
   "language": "python",
   "name": "python3"
  },
  "language_info": {
   "codemirror_mode": {
    "name": "ipython",
    "version": 3
   },
   "file_extension": ".py",
   "mimetype": "text/x-python",
   "name": "python",
   "nbconvert_exporter": "python",
   "pygments_lexer": "ipython3",
   "version": "3.8.8"
  }
 },
 "nbformat": 4,
 "nbformat_minor": 5
}
